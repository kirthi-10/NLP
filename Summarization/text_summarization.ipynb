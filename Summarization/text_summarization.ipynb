{
  "nbformat": 4,
  "nbformat_minor": 0,
  "metadata": {
    "colab": {
      "provenance": []
    },
    "kernelspec": {
      "name": "python3",
      "display_name": "Python 3"
    },
    "language_info": {
      "name": "python"
    }
  },
  "cells": [
    {
      "cell_type": "code",
      "execution_count": null,
      "metadata": {
        "colab": {
          "base_uri": "https://localhost:8080/"
        },
        "id": "aAIY2grbVI9v",
        "outputId": "a0a4bf35-3bdd-4237-e96f-015d37f30f60"
      },
      "outputs": [
        {
          "output_type": "stream",
          "name": "stdout",
          "text": [
            "Requirement already satisfied: numpy in /usr/local/lib/python3.10/dist-packages (1.26.4)\n",
            "Requirement already satisfied: pandas in /usr/local/lib/python3.10/dist-packages (2.1.4)\n",
            "Requirement already satisfied: nltk in /usr/local/lib/python3.10/dist-packages (3.8.1)\n",
            "Requirement already satisfied: spacy in /usr/local/lib/python3.10/dist-packages (3.7.5)\n",
            "Collecting sklearn\n",
            "  Downloading sklearn-0.0.post12.tar.gz (2.6 kB)\n",
            "  \u001b[1;31merror\u001b[0m: \u001b[1msubprocess-exited-with-error\u001b[0m\n",
            "  \n",
            "  \u001b[31m×\u001b[0m \u001b[32mpython setup.py egg_info\u001b[0m did not run successfully.\n",
            "  \u001b[31m│\u001b[0m exit code: \u001b[1;36m1\u001b[0m\n",
            "  \u001b[31m╰─>\u001b[0m See above for output.\n",
            "  \n",
            "  \u001b[1;35mnote\u001b[0m: This error originates from a subprocess, and is likely not a problem with pip.\n",
            "  Preparing metadata (setup.py) ... \u001b[?25l\u001b[?25herror\n",
            "\u001b[1;31merror\u001b[0m: \u001b[1mmetadata-generation-failed\u001b[0m\n",
            "\n",
            "\u001b[31m×\u001b[0m Encountered error while generating package metadata.\n",
            "\u001b[31m╰─>\u001b[0m See above for output.\n",
            "\n",
            "\u001b[1;35mnote\u001b[0m: This is an issue with the package mentioned above, not pip.\n",
            "\u001b[1;36mhint\u001b[0m: See above for details.\n"
          ]
        }
      ],
      "source": [
        "pip install numpy pandas nltk spacy sklearn transformers\n"
      ]
    },
    {
      "cell_type": "code",
      "source": [
        "import zipfile\n",
        "import os\n",
        "\n",
        "# Unzipping the dataset\n",
        "dataset_path = '/content/archive (71).zip'\n",
        "unzip_dir = '/mnt/data/unzipped_dataset/'\n",
        "\n",
        "with zipfile.ZipFile(dataset_path, 'r') as zip_ref:\n",
        "    zip_ref.extractall(unzip_dir)\n",
        "\n",
        "# Listing the files\n",
        "os.listdir(unzip_dir)\n"
      ],
      "metadata": {
        "colab": {
          "base_uri": "https://localhost:8080/"
        },
        "id": "yhGTS0e6Whix",
        "outputId": "41ee91b7-0234-4904-b005-8c7e7903d6c1"
      },
      "execution_count": null,
      "outputs": [
        {
          "output_type": "execute_result",
          "data": {
            "text/plain": [
              "['quantum-computing.txt']"
            ]
          },
          "metadata": {},
          "execution_count": 6
        }
      ]
    },
    {
      "cell_type": "code",
      "source": [
        "# prompt: text to open this text file for text summarization\n",
        "\n",
        "file_path = '/content/quantum-computing.txt'\n",
        "\n",
        "with open(file_path, 'r') as file:\n",
        "  text = file.read()\n",
        "print(text)\n"
      ],
      "metadata": {
        "colab": {
          "base_uri": "https://localhost:8080/"
        },
        "id": "xp1Nv2k3XRvv",
        "outputId": "202a22c7-c8ad-4d01-a582-b2d4320fe9c7"
      },
      "execution_count": null,
      "outputs": [
        {
          "output_type": "stream",
          "name": "stdout",
          "text": [
            "\tIn a groundbreaking development in the realm of technology, researchers at a prestigious university have announced a monumental leap forward in the field of quantum computing. Their latest innovation comes in the form of a revolutionary quantum processor, heralding a new era of computational prowess and unlocking unprecedented capabilities that were once confined to the realm of science fiction.This quantum processor represents a quantum leap in computing power, boasting unparalleled levels of stability and coherence that surpass anything previously achieved in the field. Harnessing the intricate principles of quantum mechanics, this cutting-edge technology has the potential to revolutionize numerous industries and reshape the landscape of computing as we know it.At the heart of this breakthrough lies the remarkable stability and coherence of the quantum processor. Unlike traditional processors, which rely on binary bits to process information, quantum processors utilize quantum bits, or qubits, which can exist in multiple states simultaneously thanks to the phenomenon of superposition. This inherent flexibility allows quantum processors to tackle complex computational problems with unparalleled speed and efficiency.\n",
            "\n",
            "\tOne of the most remarkable aspects of this quantum processor is its ability to maintain coherence over extended periods of time—a feat that has long eluded researchers in the field. Coherence refers to the ability of qubits to maintain their quantum state without succumbing to external disturbances, such as noise or temperature fluctuations. By achieving high levels of coherence, this quantum processor can perform complex calculations with remarkable precision and accuracy.The implications of this breakthrough are profound and far-reaching, with potential applications spanning a wide range of fields. In the realm of scientific research, quantum computing holds the promise of accelerating the pace of discovery across disciplines such as drug discovery, materials science, and climate modeling. Complex problems that were once deemed intractable due to their sheer computational complexity may soon be within reach, thanks to the unparalleled power of quantum computing.In addition to its scientific applications, quantum computing also has significant implications for industries such as finance, cybersecurity, and logistics. In the financial sector, for example, quantum algorithms could revolutionize portfolio optimization, risk management, and fraud detection, enabling more efficient and secure financial transactions. Similarly, in the realm of cybersecurity, quantum cryptography promises to usher in a new era of secure communication, protected by the unbreakable laws of quantum mechanics.\n",
            "\n",
            "\tHowever, alongside the promise of quantum computing also come significant challenges and complexities. Chief among these challenges is the need to develop robust error-correction mechanisms to mitigate the effects of noise and other sources of error inherent in quantum systems. Additionally, the scalability of quantum processors remains a significant hurdle, as researchers work to increase the number of qubits and improve the overall performance of quantum computing systems.Despite these challenges, the future of quantum computing appears brighter than ever, fueled by rapid advancements in technology and an increasingly vibrant research community. As researchers continue to push the boundaries of what is possible in the realm of quantum computing, the potential for transformative impact across industries and disciplines is virtually limitless.\n",
            "\n",
            "\tIn conclusion, the announcement of this groundbreaking quantum processor represents a significant milestone in the field of technology, ushering in a new era of computational power and unlocking unprecedented possibilities for innovation and discovery. As quantum computing continues to evolve and mature, its impact on society is poised to be nothing short of revolutionary, reshaping the way we think about computation and unlocking new frontiers of human knowledge and achievement.\n",
            "\n"
          ]
        }
      ]
    },
    {
      "cell_type": "code",
      "source": [
        "!pip install sumy\n"
      ],
      "metadata": {
        "colab": {
          "base_uri": "https://localhost:8080/"
        },
        "id": "5tdmVxFQYbcf",
        "outputId": "10527701-aba6-4408-c185-384b19f421d5"
      },
      "execution_count": null,
      "outputs": [
        {
          "output_type": "stream",
          "name": "stdout",
          "text": [
            "Collecting sumy\n",
            "  Downloading sumy-0.11.0-py2.py3-none-any.whl.metadata (7.5 kB)\n",
            "Collecting docopt<0.7,>=0.6.1 (from sumy)\n",
            "  Downloading docopt-0.6.2.tar.gz (25 kB)\n",
            "  Preparing metadata (setup.py) ... \u001b[?25l\u001b[?25hdone\n",
            "Collecting breadability>=0.1.20 (from sumy)\n",
            "  Downloading breadability-0.1.20.tar.gz (32 kB)\n",
            "  Preparing metadata (setup.py) ... \u001b[?25l\u001b[?25hdone\n",
            "Requirement already satisfied: requests>=2.7.0 in /usr/local/lib/python3.10/dist-packages (from sumy) (2.32.3)\n",
            "Collecting pycountry>=18.2.23 (from sumy)\n",
            "  Downloading pycountry-24.6.1-py3-none-any.whl.metadata (12 kB)\n",
            "Requirement already satisfied: nltk>=3.0.2 in /usr/local/lib/python3.10/dist-packages (from sumy) (3.8.1)\n",
            "Requirement already satisfied: chardet in /usr/local/lib/python3.10/dist-packages (from breadability>=0.1.20->sumy) (5.2.0)\n",
            "Requirement already satisfied: lxml>=2.0 in /usr/local/lib/python3.10/dist-packages (from breadability>=0.1.20->sumy) (4.9.4)\n",
            "Requirement already satisfied: click in /usr/local/lib/python3.10/dist-packages (from nltk>=3.0.2->sumy) (8.1.7)\n",
            "Requirement already satisfied: joblib in /usr/local/lib/python3.10/dist-packages (from nltk>=3.0.2->sumy) (1.4.2)\n",
            "Requirement already satisfied: regex>=2021.8.3 in /usr/local/lib/python3.10/dist-packages (from nltk>=3.0.2->sumy) (2024.5.15)\n",
            "Requirement already satisfied: tqdm in /usr/local/lib/python3.10/dist-packages (from nltk>=3.0.2->sumy) (4.66.5)\n",
            "Requirement already satisfied: charset-normalizer<4,>=2 in /usr/local/lib/python3.10/dist-packages (from requests>=2.7.0->sumy) (3.3.2)\n",
            "Requirement already satisfied: idna<4,>=2.5 in /usr/local/lib/python3.10/dist-packages (from requests>=2.7.0->sumy) (3.7)\n",
            "Requirement already satisfied: urllib3<3,>=1.21.1 in /usr/local/lib/python3.10/dist-packages (from requests>=2.7.0->sumy) (2.0.7)\n",
            "Requirement already satisfied: certifi>=2017.4.17 in /usr/local/lib/python3.10/dist-packages (from requests>=2.7.0->sumy) (2024.7.4)\n",
            "Downloading sumy-0.11.0-py2.py3-none-any.whl (97 kB)\n",
            "\u001b[2K   \u001b[90m━━━━━━━━━━━━━━━━━━━━━━━━━━━━━━━━━━━━━━━━\u001b[0m \u001b[32m97.3/97.3 kB\u001b[0m \u001b[31m5.8 MB/s\u001b[0m eta \u001b[36m0:00:00\u001b[0m\n",
            "\u001b[?25hDownloading pycountry-24.6.1-py3-none-any.whl (6.3 MB)\n",
            "\u001b[2K   \u001b[90m━━━━━━━━━━━━━━━━━━━━━━━━━━━━━━━━━━━━━━━━\u001b[0m \u001b[32m6.3/6.3 MB\u001b[0m \u001b[31m25.6 MB/s\u001b[0m eta \u001b[36m0:00:00\u001b[0m\n",
            "\u001b[?25hBuilding wheels for collected packages: breadability, docopt\n",
            "  Building wheel for breadability (setup.py) ... \u001b[?25l\u001b[?25hdone\n",
            "  Created wheel for breadability: filename=breadability-0.1.20-py2.py3-none-any.whl size=21691 sha256=9b51c577af2431522248987cd38bf08622a664a09b5d351b71cc02754e6a4f0d\n",
            "  Stored in directory: /root/.cache/pip/wheels/64/22/90/b84fcc30e16598db20a0d41340616dbf9b1e82bbcc627b0b33\n",
            "  Building wheel for docopt (setup.py) ... \u001b[?25l\u001b[?25hdone\n",
            "  Created wheel for docopt: filename=docopt-0.6.2-py2.py3-none-any.whl size=13704 sha256=de5631231edbf8c8194de3b4abfb889e47f65fa41d57b084130f063c48a5af18\n",
            "  Stored in directory: /root/.cache/pip/wheels/fc/ab/d4/5da2067ac95b36618c629a5f93f809425700506f72c9732fac\n",
            "Successfully built breadability docopt\n",
            "Installing collected packages: docopt, pycountry, breadability, sumy\n",
            "Successfully installed breadability-0.1.20 docopt-0.6.2 pycountry-24.6.1 sumy-0.11.0\n"
          ]
        }
      ]
    },
    {
      "cell_type": "code",
      "source": [
        "import re\n",
        "import nltk\n",
        "import numpy as np\n",
        "import networkx\n",
        "from sklearn.feature_extraction.text import TfidfVectorizer\n",
        "import pandas as pd\n",
        "from sumy.parsers.plaintext import PlaintextParser\n",
        "from sumy.nlp.tokenizers import Tokenizer\n",
        "from sumy.summarizers.lsa import LsaSummarizer"
      ],
      "metadata": {
        "id": "u48khjn2apfT"
      },
      "execution_count": null,
      "outputs": []
    },
    {
      "cell_type": "code",
      "source": [
        "import nltk\n",
        "nltk.download('punkt')"
      ],
      "metadata": {
        "colab": {
          "base_uri": "https://localhost:8080/"
        },
        "id": "iBhkO1NKzruq",
        "outputId": "45dd8c69-8406-442a-9be2-5a2c6bd3cb80"
      },
      "execution_count": null,
      "outputs": [
        {
          "output_type": "stream",
          "name": "stderr",
          "text": [
            "[nltk_data] Downloading package punkt to /root/nltk_data...\n",
            "[nltk_data]   Package punkt is already up-to-date!\n"
          ]
        },
        {
          "output_type": "execute_result",
          "data": {
            "text/plain": [
              "True"
            ]
          },
          "metadata": {},
          "execution_count": 12
        }
      ]
    },
    {
      "cell_type": "code",
      "source": [
        "parser = PlaintextParser.from_string(text, Tokenizer(\"english\"))\n",
        "\n",
        "summarizer = LsaSummarizer()\n",
        "\n",
        "summary = summarizer(parser.document, sentences_count=10)\n",
        "\n",
        "for sentence in summary:\n",
        "    print(sentence)"
      ],
      "metadata": {
        "colab": {
          "base_uri": "https://localhost:8080/"
        },
        "id": "42FM9R2Sax1F",
        "outputId": "57865fc8-0028-425d-f0e6-7bbcaf12c173"
      },
      "execution_count": null,
      "outputs": [
        {
          "output_type": "stream",
          "name": "stdout",
          "text": [
            "Their latest innovation comes in the form of a revolutionary quantum processor, heralding a new era of computational prowess and unlocking unprecedented capabilities that were once confined to the realm of science fiction.This quantum processor represents a quantum leap in computing power, boasting unparalleled levels of stability and coherence that surpass anything previously achieved in the field.\n",
            "Unlike traditional processors, which rely on binary bits to process information, quantum processors utilize quantum bits, or qubits, which can exist in multiple states simultaneously thanks to the phenomenon of superposition.\n",
            "This inherent flexibility allows quantum processors to tackle complex computational problems with unparalleled speed and efficiency.\n",
            "Complex problems that were once deemed intractable due to their sheer computational complexity may soon be within reach, thanks to the unparalleled power of quantum computing.In addition to its scientific applications, quantum computing also has significant implications for industries such as finance, cybersecurity, and logistics.\n",
            "In the financial sector, for example, quantum algorithms could revolutionize portfolio optimization, risk management, and fraud detection, enabling more efficient and secure financial transactions.\n",
            "However, alongside the promise of quantum computing also come significant challenges and complexities.\n",
            "Chief among these challenges is the need to develop robust error-correction mechanisms to mitigate the effects of noise and other sources of error inherent in quantum systems.\n",
            "Additionally, the scalability of quantum processors remains a significant hurdle, as researchers work to increase the number of qubits and improve the overall performance of quantum computing systems.Despite these challenges, the future of quantum computing appears brighter than ever, fueled by rapid advancements in technology and an increasingly vibrant research community.\n",
            "In conclusion, the announcement of this groundbreaking quantum processor represents a significant milestone in the field of technology, ushering in a new era of computational power and unlocking unprecedented possibilities for innovation and discovery.\n",
            "As quantum computing continues to evolve and mature, its impact on society is poised to be nothing short of revolutionary, reshaping the way we think about computation and unlocking new frontiers of human knowledge and achievement.\n"
          ]
        }
      ]
    },
    {
      "cell_type": "markdown",
      "source": [
        "# **Text normalization**"
      ],
      "metadata": {
        "id": "XALPNAUza6t5"
      }
    },
    {
      "cell_type": "code",
      "source": [
        "sentences = nltk.sent_tokenize(text)\n",
        "len(sentences)"
      ],
      "metadata": {
        "colab": {
          "base_uri": "https://localhost:8080/"
        },
        "id": "GC4BaPrca9wC",
        "outputId": "cabee490-ef75-474a-fd8c-06358fcde021"
      },
      "execution_count": null,
      "outputs": [
        {
          "output_type": "execute_result",
          "data": {
            "text/plain": [
              "18"
            ]
          },
          "metadata": {},
          "execution_count": 10
        }
      ]
    },
    {
      "cell_type": "code",
      "source": [
        "import numpy as np\n",
        "import re\n",
        "nltk.download('stopwords')\n",
        "\n",
        "stop_words = nltk.corpus.stopwords.words('english')\n",
        "\n",
        "def normalize_document(doc):\n",
        "    doc = re.sub(r'[^a-zA-Z\\s]', '', doc, re.I|re.A)\n",
        "    doc = doc.lower()\n",
        "    doc = doc.strip()\n",
        "\n",
        "    tokens = nltk.word_tokenize(doc)\n",
        "\n",
        "    filtered_tokens = [token for token in tokens if token not in stop_words]\n",
        "\n",
        "    doc = ' '.join(filtered_tokens)\n",
        "    return doc\n",
        "\n",
        "normalize_corpus = np.vectorize(normalize_document)"
      ],
      "metadata": {
        "colab": {
          "base_uri": "https://localhost:8080/"
        },
        "id": "MYHEPYZCbFc9",
        "outputId": "7cf057c7-2c9a-4215-c7f7-4f1354a04e6a"
      },
      "execution_count": null,
      "outputs": [
        {
          "output_type": "stream",
          "name": "stderr",
          "text": [
            "[nltk_data] Downloading package stopwords to /root/nltk_data...\n",
            "[nltk_data]   Unzipping corpora/stopwords.zip.\n"
          ]
        }
      ]
    },
    {
      "cell_type": "code",
      "source": [
        "norm_sentences = normalize_corpus(sentences)\n",
        "norm_sentences[:5]"
      ],
      "metadata": {
        "colab": {
          "base_uri": "https://localhost:8080/"
        },
        "id": "P4xjXGPWbKRy",
        "outputId": "53dd7197-0c2d-4bcc-a74c-1b744b96bf72"
      },
      "execution_count": null,
      "outputs": [
        {
          "output_type": "execute_result",
          "data": {
            "text/plain": [
              "array(['groundbreaking development realm technology researchers prestigious university announced monumental leap forward field quantum computing',\n",
              "       'latest innovation comes form revolutionary quantum processor heralding new era computational prowess unlocking unprecedented capabilities confined realm science fictionthis quantum processor represents quantum leap computing power boasting unparalleled levels stability coherence surpass anything previously achieved field',\n",
              "       'harnessing intricate principles quantum mechanics cuttingedge technology potential revolutionize numerous industries reshape landscape computing know itat heart breakthrough lies remarkable stability coherence quantum processor',\n",
              "       'unlike traditional processors rely binary bits process information quantum processors utilize quantum bits qubits exist multiple states simultaneously thanks phenomenon superposition',\n",
              "       'inherent flexibility allows quantum processors tackle complex computational problems unparalleled speed efficiency'],\n",
              "      dtype='<U322')"
            ]
          },
          "metadata": {},
          "execution_count": 15
        }
      ]
    },
    {
      "cell_type": "code",
      "source": [
        "tv = TfidfVectorizer(min_df=0., max_df=1., use_idf=True)\n",
        "dt_matrix = tv.fit_transform(norm_sentences)\n",
        "dt_matrix = dt_matrix.toarray()\n",
        "\n",
        "vocab = tv.get_feature_names_out()\n",
        "td_matrix = dt_matrix.T\n",
        "print(td_matrix.shape)\n",
        "pd.DataFrame(np.round(td_matrix, 2), index=vocab).head(10)"
      ],
      "metadata": {
        "colab": {
          "base_uri": "https://localhost:8080/",
          "height": 400
        },
        "id": "kuL3o4pmbLZ0",
        "outputId": "e788e5a1-f250-4775-e9b8-c444893984fd"
      },
      "execution_count": null,
      "outputs": [
        {
          "output_type": "stream",
          "name": "stdout",
          "text": [
            "(235, 18)\n"
          ]
        },
        {
          "output_type": "execute_result",
          "data": {
            "text/plain": [
              "               0     1    2    3    4     5     6     7     8     9    10  \\\n",
              "ability       0.0  0.00  0.0  0.0  0.0  0.25  0.26  0.00  0.00  0.00  0.0   \n",
              "accelerating  0.0  0.00  0.0  0.0  0.0  0.00  0.00  0.00  0.25  0.00  0.0   \n",
              "accuracythe   0.0  0.00  0.0  0.0  0.0  0.00  0.00  0.24  0.00  0.00  0.0   \n",
              "achieved      0.0  0.19  0.0  0.0  0.0  0.00  0.00  0.00  0.00  0.00  0.0   \n",
              "achievement   0.0  0.00  0.0  0.0  0.0  0.00  0.00  0.00  0.00  0.00  0.0   \n",
              "achieving     0.0  0.00  0.0  0.0  0.0  0.00  0.00  0.24  0.00  0.00  0.0   \n",
              "across        0.0  0.00  0.0  0.0  0.0  0.00  0.00  0.00  0.22  0.00  0.0   \n",
              "addition      0.0  0.00  0.0  0.0  0.0  0.00  0.00  0.00  0.00  0.21  0.0   \n",
              "additionally  0.0  0.00  0.0  0.0  0.0  0.00  0.00  0.00  0.00  0.00  0.0   \n",
              "advancements  0.0  0.00  0.0  0.0  0.0  0.00  0.00  0.00  0.00  0.00  0.0   \n",
              "\n",
              "               11   12   13    14    15   16    17  \n",
              "ability       0.0  0.0  0.0  0.00  0.00  0.0  0.00  \n",
              "accelerating  0.0  0.0  0.0  0.00  0.00  0.0  0.00  \n",
              "accuracythe   0.0  0.0  0.0  0.00  0.00  0.0  0.00  \n",
              "achieved      0.0  0.0  0.0  0.00  0.00  0.0  0.00  \n",
              "achievement   0.0  0.0  0.0  0.00  0.00  0.0  0.24  \n",
              "achieving     0.0  0.0  0.0  0.00  0.00  0.0  0.00  \n",
              "across        0.0  0.0  0.0  0.00  0.25  0.0  0.00  \n",
              "addition      0.0  0.0  0.0  0.00  0.00  0.0  0.00  \n",
              "additionally  0.0  0.0  0.0  0.19  0.00  0.0  0.00  \n",
              "advancements  0.0  0.0  0.0  0.19  0.00  0.0  0.00  "
            ],
            "text/html": [
              "\n",
              "  <div id=\"df-6e4036e4-aec9-44be-a071-81606097f6ed\" class=\"colab-df-container\">\n",
              "    <div>\n",
              "<style scoped>\n",
              "    .dataframe tbody tr th:only-of-type {\n",
              "        vertical-align: middle;\n",
              "    }\n",
              "\n",
              "    .dataframe tbody tr th {\n",
              "        vertical-align: top;\n",
              "    }\n",
              "\n",
              "    .dataframe thead th {\n",
              "        text-align: right;\n",
              "    }\n",
              "</style>\n",
              "<table border=\"1\" class=\"dataframe\">\n",
              "  <thead>\n",
              "    <tr style=\"text-align: right;\">\n",
              "      <th></th>\n",
              "      <th>0</th>\n",
              "      <th>1</th>\n",
              "      <th>2</th>\n",
              "      <th>3</th>\n",
              "      <th>4</th>\n",
              "      <th>5</th>\n",
              "      <th>6</th>\n",
              "      <th>7</th>\n",
              "      <th>8</th>\n",
              "      <th>9</th>\n",
              "      <th>10</th>\n",
              "      <th>11</th>\n",
              "      <th>12</th>\n",
              "      <th>13</th>\n",
              "      <th>14</th>\n",
              "      <th>15</th>\n",
              "      <th>16</th>\n",
              "      <th>17</th>\n",
              "    </tr>\n",
              "  </thead>\n",
              "  <tbody>\n",
              "    <tr>\n",
              "      <th>ability</th>\n",
              "      <td>0.0</td>\n",
              "      <td>0.00</td>\n",
              "      <td>0.0</td>\n",
              "      <td>0.0</td>\n",
              "      <td>0.0</td>\n",
              "      <td>0.25</td>\n",
              "      <td>0.26</td>\n",
              "      <td>0.00</td>\n",
              "      <td>0.00</td>\n",
              "      <td>0.00</td>\n",
              "      <td>0.0</td>\n",
              "      <td>0.0</td>\n",
              "      <td>0.0</td>\n",
              "      <td>0.0</td>\n",
              "      <td>0.00</td>\n",
              "      <td>0.00</td>\n",
              "      <td>0.0</td>\n",
              "      <td>0.00</td>\n",
              "    </tr>\n",
              "    <tr>\n",
              "      <th>accelerating</th>\n",
              "      <td>0.0</td>\n",
              "      <td>0.00</td>\n",
              "      <td>0.0</td>\n",
              "      <td>0.0</td>\n",
              "      <td>0.0</td>\n",
              "      <td>0.00</td>\n",
              "      <td>0.00</td>\n",
              "      <td>0.00</td>\n",
              "      <td>0.25</td>\n",
              "      <td>0.00</td>\n",
              "      <td>0.0</td>\n",
              "      <td>0.0</td>\n",
              "      <td>0.0</td>\n",
              "      <td>0.0</td>\n",
              "      <td>0.00</td>\n",
              "      <td>0.00</td>\n",
              "      <td>0.0</td>\n",
              "      <td>0.00</td>\n",
              "    </tr>\n",
              "    <tr>\n",
              "      <th>accuracythe</th>\n",
              "      <td>0.0</td>\n",
              "      <td>0.00</td>\n",
              "      <td>0.0</td>\n",
              "      <td>0.0</td>\n",
              "      <td>0.0</td>\n",
              "      <td>0.00</td>\n",
              "      <td>0.00</td>\n",
              "      <td>0.24</td>\n",
              "      <td>0.00</td>\n",
              "      <td>0.00</td>\n",
              "      <td>0.0</td>\n",
              "      <td>0.0</td>\n",
              "      <td>0.0</td>\n",
              "      <td>0.0</td>\n",
              "      <td>0.00</td>\n",
              "      <td>0.00</td>\n",
              "      <td>0.0</td>\n",
              "      <td>0.00</td>\n",
              "    </tr>\n",
              "    <tr>\n",
              "      <th>achieved</th>\n",
              "      <td>0.0</td>\n",
              "      <td>0.19</td>\n",
              "      <td>0.0</td>\n",
              "      <td>0.0</td>\n",
              "      <td>0.0</td>\n",
              "      <td>0.00</td>\n",
              "      <td>0.00</td>\n",
              "      <td>0.00</td>\n",
              "      <td>0.00</td>\n",
              "      <td>0.00</td>\n",
              "      <td>0.0</td>\n",
              "      <td>0.0</td>\n",
              "      <td>0.0</td>\n",
              "      <td>0.0</td>\n",
              "      <td>0.00</td>\n",
              "      <td>0.00</td>\n",
              "      <td>0.0</td>\n",
              "      <td>0.00</td>\n",
              "    </tr>\n",
              "    <tr>\n",
              "      <th>achievement</th>\n",
              "      <td>0.0</td>\n",
              "      <td>0.00</td>\n",
              "      <td>0.0</td>\n",
              "      <td>0.0</td>\n",
              "      <td>0.0</td>\n",
              "      <td>0.00</td>\n",
              "      <td>0.00</td>\n",
              "      <td>0.00</td>\n",
              "      <td>0.00</td>\n",
              "      <td>0.00</td>\n",
              "      <td>0.0</td>\n",
              "      <td>0.0</td>\n",
              "      <td>0.0</td>\n",
              "      <td>0.0</td>\n",
              "      <td>0.00</td>\n",
              "      <td>0.00</td>\n",
              "      <td>0.0</td>\n",
              "      <td>0.24</td>\n",
              "    </tr>\n",
              "    <tr>\n",
              "      <th>achieving</th>\n",
              "      <td>0.0</td>\n",
              "      <td>0.00</td>\n",
              "      <td>0.0</td>\n",
              "      <td>0.0</td>\n",
              "      <td>0.0</td>\n",
              "      <td>0.00</td>\n",
              "      <td>0.00</td>\n",
              "      <td>0.24</td>\n",
              "      <td>0.00</td>\n",
              "      <td>0.00</td>\n",
              "      <td>0.0</td>\n",
              "      <td>0.0</td>\n",
              "      <td>0.0</td>\n",
              "      <td>0.0</td>\n",
              "      <td>0.00</td>\n",
              "      <td>0.00</td>\n",
              "      <td>0.0</td>\n",
              "      <td>0.00</td>\n",
              "    </tr>\n",
              "    <tr>\n",
              "      <th>across</th>\n",
              "      <td>0.0</td>\n",
              "      <td>0.00</td>\n",
              "      <td>0.0</td>\n",
              "      <td>0.0</td>\n",
              "      <td>0.0</td>\n",
              "      <td>0.00</td>\n",
              "      <td>0.00</td>\n",
              "      <td>0.00</td>\n",
              "      <td>0.22</td>\n",
              "      <td>0.00</td>\n",
              "      <td>0.0</td>\n",
              "      <td>0.0</td>\n",
              "      <td>0.0</td>\n",
              "      <td>0.0</td>\n",
              "      <td>0.00</td>\n",
              "      <td>0.25</td>\n",
              "      <td>0.0</td>\n",
              "      <td>0.00</td>\n",
              "    </tr>\n",
              "    <tr>\n",
              "      <th>addition</th>\n",
              "      <td>0.0</td>\n",
              "      <td>0.00</td>\n",
              "      <td>0.0</td>\n",
              "      <td>0.0</td>\n",
              "      <td>0.0</td>\n",
              "      <td>0.00</td>\n",
              "      <td>0.00</td>\n",
              "      <td>0.00</td>\n",
              "      <td>0.00</td>\n",
              "      <td>0.21</td>\n",
              "      <td>0.0</td>\n",
              "      <td>0.0</td>\n",
              "      <td>0.0</td>\n",
              "      <td>0.0</td>\n",
              "      <td>0.00</td>\n",
              "      <td>0.00</td>\n",
              "      <td>0.0</td>\n",
              "      <td>0.00</td>\n",
              "    </tr>\n",
              "    <tr>\n",
              "      <th>additionally</th>\n",
              "      <td>0.0</td>\n",
              "      <td>0.00</td>\n",
              "      <td>0.0</td>\n",
              "      <td>0.0</td>\n",
              "      <td>0.0</td>\n",
              "      <td>0.00</td>\n",
              "      <td>0.00</td>\n",
              "      <td>0.00</td>\n",
              "      <td>0.00</td>\n",
              "      <td>0.00</td>\n",
              "      <td>0.0</td>\n",
              "      <td>0.0</td>\n",
              "      <td>0.0</td>\n",
              "      <td>0.0</td>\n",
              "      <td>0.19</td>\n",
              "      <td>0.00</td>\n",
              "      <td>0.0</td>\n",
              "      <td>0.00</td>\n",
              "    </tr>\n",
              "    <tr>\n",
              "      <th>advancements</th>\n",
              "      <td>0.0</td>\n",
              "      <td>0.00</td>\n",
              "      <td>0.0</td>\n",
              "      <td>0.0</td>\n",
              "      <td>0.0</td>\n",
              "      <td>0.00</td>\n",
              "      <td>0.00</td>\n",
              "      <td>0.00</td>\n",
              "      <td>0.00</td>\n",
              "      <td>0.00</td>\n",
              "      <td>0.0</td>\n",
              "      <td>0.0</td>\n",
              "      <td>0.0</td>\n",
              "      <td>0.0</td>\n",
              "      <td>0.19</td>\n",
              "      <td>0.00</td>\n",
              "      <td>0.0</td>\n",
              "      <td>0.00</td>\n",
              "    </tr>\n",
              "  </tbody>\n",
              "</table>\n",
              "</div>\n",
              "    <div class=\"colab-df-buttons\">\n",
              "\n",
              "  <div class=\"colab-df-container\">\n",
              "    <button class=\"colab-df-convert\" onclick=\"convertToInteractive('df-6e4036e4-aec9-44be-a071-81606097f6ed')\"\n",
              "            title=\"Convert this dataframe to an interactive table.\"\n",
              "            style=\"display:none;\">\n",
              "\n",
              "  <svg xmlns=\"http://www.w3.org/2000/svg\" height=\"24px\" viewBox=\"0 -960 960 960\">\n",
              "    <path d=\"M120-120v-720h720v720H120Zm60-500h600v-160H180v160Zm220 220h160v-160H400v160Zm0 220h160v-160H400v160ZM180-400h160v-160H180v160Zm440 0h160v-160H620v160ZM180-180h160v-160H180v160Zm440 0h160v-160H620v160Z\"/>\n",
              "  </svg>\n",
              "    </button>\n",
              "\n",
              "  <style>\n",
              "    .colab-df-container {\n",
              "      display:flex;\n",
              "      gap: 12px;\n",
              "    }\n",
              "\n",
              "    .colab-df-convert {\n",
              "      background-color: #E8F0FE;\n",
              "      border: none;\n",
              "      border-radius: 50%;\n",
              "      cursor: pointer;\n",
              "      display: none;\n",
              "      fill: #1967D2;\n",
              "      height: 32px;\n",
              "      padding: 0 0 0 0;\n",
              "      width: 32px;\n",
              "    }\n",
              "\n",
              "    .colab-df-convert:hover {\n",
              "      background-color: #E2EBFA;\n",
              "      box-shadow: 0px 1px 2px rgba(60, 64, 67, 0.3), 0px 1px 3px 1px rgba(60, 64, 67, 0.15);\n",
              "      fill: #174EA6;\n",
              "    }\n",
              "\n",
              "    .colab-df-buttons div {\n",
              "      margin-bottom: 4px;\n",
              "    }\n",
              "\n",
              "    [theme=dark] .colab-df-convert {\n",
              "      background-color: #3B4455;\n",
              "      fill: #D2E3FC;\n",
              "    }\n",
              "\n",
              "    [theme=dark] .colab-df-convert:hover {\n",
              "      background-color: #434B5C;\n",
              "      box-shadow: 0px 1px 3px 1px rgba(0, 0, 0, 0.15);\n",
              "      filter: drop-shadow(0px 1px 2px rgba(0, 0, 0, 0.3));\n",
              "      fill: #FFFFFF;\n",
              "    }\n",
              "  </style>\n",
              "\n",
              "    <script>\n",
              "      const buttonEl =\n",
              "        document.querySelector('#df-6e4036e4-aec9-44be-a071-81606097f6ed button.colab-df-convert');\n",
              "      buttonEl.style.display =\n",
              "        google.colab.kernel.accessAllowed ? 'block' : 'none';\n",
              "\n",
              "      async function convertToInteractive(key) {\n",
              "        const element = document.querySelector('#df-6e4036e4-aec9-44be-a071-81606097f6ed');\n",
              "        const dataTable =\n",
              "          await google.colab.kernel.invokeFunction('convertToInteractive',\n",
              "                                                    [key], {});\n",
              "        if (!dataTable) return;\n",
              "\n",
              "        const docLinkHtml = 'Like what you see? Visit the ' +\n",
              "          '<a target=\"_blank\" href=https://colab.research.google.com/notebooks/data_table.ipynb>data table notebook</a>'\n",
              "          + ' to learn more about interactive tables.';\n",
              "        element.innerHTML = '';\n",
              "        dataTable['output_type'] = 'display_data';\n",
              "        await google.colab.output.renderOutput(dataTable, element);\n",
              "        const docLink = document.createElement('div');\n",
              "        docLink.innerHTML = docLinkHtml;\n",
              "        element.appendChild(docLink);\n",
              "      }\n",
              "    </script>\n",
              "  </div>\n",
              "\n",
              "\n",
              "<div id=\"df-4253f04b-ad82-45fe-93af-e9b2aaf86870\">\n",
              "  <button class=\"colab-df-quickchart\" onclick=\"quickchart('df-4253f04b-ad82-45fe-93af-e9b2aaf86870')\"\n",
              "            title=\"Suggest charts\"\n",
              "            style=\"display:none;\">\n",
              "\n",
              "<svg xmlns=\"http://www.w3.org/2000/svg\" height=\"24px\"viewBox=\"0 0 24 24\"\n",
              "     width=\"24px\">\n",
              "    <g>\n",
              "        <path d=\"M19 3H5c-1.1 0-2 .9-2 2v14c0 1.1.9 2 2 2h14c1.1 0 2-.9 2-2V5c0-1.1-.9-2-2-2zM9 17H7v-7h2v7zm4 0h-2V7h2v10zm4 0h-2v-4h2v4z\"/>\n",
              "    </g>\n",
              "</svg>\n",
              "  </button>\n",
              "\n",
              "<style>\n",
              "  .colab-df-quickchart {\n",
              "      --bg-color: #E8F0FE;\n",
              "      --fill-color: #1967D2;\n",
              "      --hover-bg-color: #E2EBFA;\n",
              "      --hover-fill-color: #174EA6;\n",
              "      --disabled-fill-color: #AAA;\n",
              "      --disabled-bg-color: #DDD;\n",
              "  }\n",
              "\n",
              "  [theme=dark] .colab-df-quickchart {\n",
              "      --bg-color: #3B4455;\n",
              "      --fill-color: #D2E3FC;\n",
              "      --hover-bg-color: #434B5C;\n",
              "      --hover-fill-color: #FFFFFF;\n",
              "      --disabled-bg-color: #3B4455;\n",
              "      --disabled-fill-color: #666;\n",
              "  }\n",
              "\n",
              "  .colab-df-quickchart {\n",
              "    background-color: var(--bg-color);\n",
              "    border: none;\n",
              "    border-radius: 50%;\n",
              "    cursor: pointer;\n",
              "    display: none;\n",
              "    fill: var(--fill-color);\n",
              "    height: 32px;\n",
              "    padding: 0;\n",
              "    width: 32px;\n",
              "  }\n",
              "\n",
              "  .colab-df-quickchart:hover {\n",
              "    background-color: var(--hover-bg-color);\n",
              "    box-shadow: 0 1px 2px rgba(60, 64, 67, 0.3), 0 1px 3px 1px rgba(60, 64, 67, 0.15);\n",
              "    fill: var(--button-hover-fill-color);\n",
              "  }\n",
              "\n",
              "  .colab-df-quickchart-complete:disabled,\n",
              "  .colab-df-quickchart-complete:disabled:hover {\n",
              "    background-color: var(--disabled-bg-color);\n",
              "    fill: var(--disabled-fill-color);\n",
              "    box-shadow: none;\n",
              "  }\n",
              "\n",
              "  .colab-df-spinner {\n",
              "    border: 2px solid var(--fill-color);\n",
              "    border-color: transparent;\n",
              "    border-bottom-color: var(--fill-color);\n",
              "    animation:\n",
              "      spin 1s steps(1) infinite;\n",
              "  }\n",
              "\n",
              "  @keyframes spin {\n",
              "    0% {\n",
              "      border-color: transparent;\n",
              "      border-bottom-color: var(--fill-color);\n",
              "      border-left-color: var(--fill-color);\n",
              "    }\n",
              "    20% {\n",
              "      border-color: transparent;\n",
              "      border-left-color: var(--fill-color);\n",
              "      border-top-color: var(--fill-color);\n",
              "    }\n",
              "    30% {\n",
              "      border-color: transparent;\n",
              "      border-left-color: var(--fill-color);\n",
              "      border-top-color: var(--fill-color);\n",
              "      border-right-color: var(--fill-color);\n",
              "    }\n",
              "    40% {\n",
              "      border-color: transparent;\n",
              "      border-right-color: var(--fill-color);\n",
              "      border-top-color: var(--fill-color);\n",
              "    }\n",
              "    60% {\n",
              "      border-color: transparent;\n",
              "      border-right-color: var(--fill-color);\n",
              "    }\n",
              "    80% {\n",
              "      border-color: transparent;\n",
              "      border-right-color: var(--fill-color);\n",
              "      border-bottom-color: var(--fill-color);\n",
              "    }\n",
              "    90% {\n",
              "      border-color: transparent;\n",
              "      border-bottom-color: var(--fill-color);\n",
              "    }\n",
              "  }\n",
              "</style>\n",
              "\n",
              "  <script>\n",
              "    async function quickchart(key) {\n",
              "      const quickchartButtonEl =\n",
              "        document.querySelector('#' + key + ' button');\n",
              "      quickchartButtonEl.disabled = true;  // To prevent multiple clicks.\n",
              "      quickchartButtonEl.classList.add('colab-df-spinner');\n",
              "      try {\n",
              "        const charts = await google.colab.kernel.invokeFunction(\n",
              "            'suggestCharts', [key], {});\n",
              "      } catch (error) {\n",
              "        console.error('Error during call to suggestCharts:', error);\n",
              "      }\n",
              "      quickchartButtonEl.classList.remove('colab-df-spinner');\n",
              "      quickchartButtonEl.classList.add('colab-df-quickchart-complete');\n",
              "    }\n",
              "    (() => {\n",
              "      let quickchartButtonEl =\n",
              "        document.querySelector('#df-4253f04b-ad82-45fe-93af-e9b2aaf86870 button');\n",
              "      quickchartButtonEl.style.display =\n",
              "        google.colab.kernel.accessAllowed ? 'block' : 'none';\n",
              "    })();\n",
              "  </script>\n",
              "</div>\n",
              "\n",
              "    </div>\n",
              "  </div>\n"
            ],
            "application/vnd.google.colaboratory.intrinsic+json": {
              "type": "dataframe",
              "summary": "{\n  \"name\": \"pd\",\n  \"rows\": 10,\n  \"fields\": [\n    {\n      \"column\": 0,\n      \"properties\": {\n        \"dtype\": \"number\",\n        \"std\": 0.0,\n        \"min\": 0.0,\n        \"max\": 0.0,\n        \"num_unique_values\": 1,\n        \"samples\": [\n          0.0\n        ],\n        \"semantic_type\": \"\",\n        \"description\": \"\"\n      }\n    },\n    {\n      \"column\": 1,\n      \"properties\": {\n        \"dtype\": \"number\",\n        \"std\": 0.06008327554319921,\n        \"min\": 0.0,\n        \"max\": 0.19,\n        \"num_unique_values\": 2,\n        \"samples\": [\n          0.19\n        ],\n        \"semantic_type\": \"\",\n        \"description\": \"\"\n      }\n    },\n    {\n      \"column\": 2,\n      \"properties\": {\n        \"dtype\": \"number\",\n        \"std\": 0.0,\n        \"min\": 0.0,\n        \"max\": 0.0,\n        \"num_unique_values\": 1,\n        \"samples\": [\n          0.0\n        ],\n        \"semantic_type\": \"\",\n        \"description\": \"\"\n      }\n    },\n    {\n      \"column\": 3,\n      \"properties\": {\n        \"dtype\": \"number\",\n        \"std\": 0.0,\n        \"min\": 0.0,\n        \"max\": 0.0,\n        \"num_unique_values\": 1,\n        \"samples\": [\n          0.0\n        ],\n        \"semantic_type\": \"\",\n        \"description\": \"\"\n      }\n    },\n    {\n      \"column\": 4,\n      \"properties\": {\n        \"dtype\": \"number\",\n        \"std\": 0.0,\n        \"min\": 0.0,\n        \"max\": 0.0,\n        \"num_unique_values\": 1,\n        \"samples\": [\n          0.0\n        ],\n        \"semantic_type\": \"\",\n        \"description\": \"\"\n      }\n    },\n    {\n      \"column\": 5,\n      \"properties\": {\n        \"dtype\": \"number\",\n        \"std\": 0.07905694150420949,\n        \"min\": 0.0,\n        \"max\": 0.25,\n        \"num_unique_values\": 2,\n        \"samples\": [\n          0.0\n        ],\n        \"semantic_type\": \"\",\n        \"description\": \"\"\n      }\n    },\n    {\n      \"column\": 6,\n      \"properties\": {\n        \"dtype\": \"number\",\n        \"std\": 0.08221921916437787,\n        \"min\": 0.0,\n        \"max\": 0.26,\n        \"num_unique_values\": 2,\n        \"samples\": [\n          0.0\n        ],\n        \"semantic_type\": \"\",\n        \"description\": \"\"\n      }\n    },\n    {\n      \"column\": 7,\n      \"properties\": {\n        \"dtype\": \"number\",\n        \"std\": 0.10119288512538814,\n        \"min\": 0.0,\n        \"max\": 0.24,\n        \"num_unique_values\": 2,\n        \"samples\": [\n          0.24\n        ],\n        \"semantic_type\": \"\",\n        \"description\": \"\"\n      }\n    },\n    {\n      \"column\": 8,\n      \"properties\": {\n        \"dtype\": \"number\",\n        \"std\": 0.09933668898135159,\n        \"min\": 0.0,\n        \"max\": 0.25,\n        \"num_unique_values\": 3,\n        \"samples\": [\n          0.0\n        ],\n        \"semantic_type\": \"\",\n        \"description\": \"\"\n      }\n    },\n    {\n      \"column\": 9,\n      \"properties\": {\n        \"dtype\": \"number\",\n        \"std\": 0.06640783086353597,\n        \"min\": 0.0,\n        \"max\": 0.21,\n        \"num_unique_values\": 2,\n        \"samples\": [\n          0.21\n        ],\n        \"semantic_type\": \"\",\n        \"description\": \"\"\n      }\n    },\n    {\n      \"column\": 10,\n      \"properties\": {\n        \"dtype\": \"number\",\n        \"std\": 0.0,\n        \"min\": 0.0,\n        \"max\": 0.0,\n        \"num_unique_values\": 1,\n        \"samples\": [\n          0.0\n        ],\n        \"semantic_type\": \"\",\n        \"description\": \"\"\n      }\n    },\n    {\n      \"column\": 11,\n      \"properties\": {\n        \"dtype\": \"number\",\n        \"std\": 0.0,\n        \"min\": 0.0,\n        \"max\": 0.0,\n        \"num_unique_values\": 1,\n        \"samples\": [\n          0.0\n        ],\n        \"semantic_type\": \"\",\n        \"description\": \"\"\n      }\n    },\n    {\n      \"column\": 12,\n      \"properties\": {\n        \"dtype\": \"number\",\n        \"std\": 0.0,\n        \"min\": 0.0,\n        \"max\": 0.0,\n        \"num_unique_values\": 1,\n        \"samples\": [\n          0.0\n        ],\n        \"semantic_type\": \"\",\n        \"description\": \"\"\n      }\n    },\n    {\n      \"column\": 13,\n      \"properties\": {\n        \"dtype\": \"number\",\n        \"std\": 0.0,\n        \"min\": 0.0,\n        \"max\": 0.0,\n        \"num_unique_values\": 1,\n        \"samples\": [\n          0.0\n        ],\n        \"semantic_type\": \"\",\n        \"description\": \"\"\n      }\n    },\n    {\n      \"column\": 14,\n      \"properties\": {\n        \"dtype\": \"number\",\n        \"std\": 0.08011103405759894,\n        \"min\": 0.0,\n        \"max\": 0.19,\n        \"num_unique_values\": 2,\n        \"samples\": [\n          0.19\n        ],\n        \"semantic_type\": \"\",\n        \"description\": \"\"\n      }\n    },\n    {\n      \"column\": 15,\n      \"properties\": {\n        \"dtype\": \"number\",\n        \"std\": 0.07905694150420949,\n        \"min\": 0.0,\n        \"max\": 0.25,\n        \"num_unique_values\": 2,\n        \"samples\": [\n          0.25\n        ],\n        \"semantic_type\": \"\",\n        \"description\": \"\"\n      }\n    },\n    {\n      \"column\": 16,\n      \"properties\": {\n        \"dtype\": \"number\",\n        \"std\": 0.0,\n        \"min\": 0.0,\n        \"max\": 0.0,\n        \"num_unique_values\": 1,\n        \"samples\": [\n          0.0\n        ],\n        \"semantic_type\": \"\",\n        \"description\": \"\"\n      }\n    },\n    {\n      \"column\": 17,\n      \"properties\": {\n        \"dtype\": \"number\",\n        \"std\": 0.0758946638440411,\n        \"min\": 0.0,\n        \"max\": 0.24,\n        \"num_unique_values\": 2,\n        \"samples\": [\n          0.24\n        ],\n        \"semantic_type\": \"\",\n        \"description\": \"\"\n      }\n    }\n  ]\n}"
            }
          },
          "metadata": {},
          "execution_count": 16
        }
      ]
    },
    {
      "cell_type": "markdown",
      "source": [
        "# **Text rank**"
      ],
      "metadata": {
        "id": "bu2ZZOhWba56"
      }
    },
    {
      "cell_type": "code",
      "source": [
        "similarity_matrix = np.matmul(dt_matrix, dt_matrix.T)\n",
        "print(similarity_matrix.shape)\n",
        "np.round(similarity_matrix, 3)"
      ],
      "metadata": {
        "colab": {
          "base_uri": "https://localhost:8080/"
        },
        "id": "pENWy7O9bRhr",
        "outputId": "f33e94d9-49a0-48ec-9a33-5dfa2b6a3909"
      },
      "execution_count": null,
      "outputs": [
        {
          "output_type": "stream",
          "name": "stdout",
          "text": [
            "(18, 18)\n"
          ]
        },
        {
          "output_type": "execute_result",
          "data": {
            "text/plain": [
              "array([[1.   , 0.139, 0.072, 0.013, 0.01 , 0.103, 0.009, 0.007, 0.064,\n",
              "        0.03 , 0.007, 0.057, 0.042, 0.008, 0.112, 0.121, 0.162, 0.026],\n",
              "       [0.139, 1.   , 0.132, 0.024, 0.091, 0.117, 0.041, 0.108, 0.086,\n",
              "        0.105, 0.013, 0.118, 0.039, 0.015, 0.05 , 0.055, 0.356, 0.111],\n",
              "       [0.072, 0.132, 1.   , 0.019, 0.015, 0.114, 0.044, 0.171, 0.027,\n",
              "        0.062, 0.052, 0.077, 0.04 , 0.012, 0.072, 0.115, 0.073, 0.025],\n",
              "       [0.013, 0.024, 0.019, 1.   , 0.103, 0.012, 0.052, 0.01 , 0.01 ,\n",
              "        0.052, 0.01 , 0.023, 0.015, 0.011, 0.101, 0.012, 0.011, 0.01 ],\n",
              "       [0.01 , 0.091, 0.015, 0.103, 1.   , 0.009, 0.009, 0.056, 0.008,\n",
              "        0.19 , 0.007, 0.018, 0.012, 0.076, 0.058, 0.009, 0.055, 0.007],\n",
              "       [0.103, 0.117, 0.114, 0.012, 0.009, 1.   , 0.175, 0.108, 0.007,\n",
              "        0.011, 0.006, 0.016, 0.01 , 0.007, 0.044, 0.051, 0.081, 0.006],\n",
              "       [0.009, 0.041, 0.044, 0.052, 0.009, 0.175, 1.   , 0.037, 0.007,\n",
              "        0.012, 0.006, 0.016, 0.011, 0.067, 0.051, 0.008, 0.008, 0.007],\n",
              "       [0.007, 0.108, 0.171, 0.01 , 0.056, 0.108, 0.037, 1.   , 0.006,\n",
              "        0.117, 0.005, 0.013, 0.008, 0.006, 0.013, 0.049, 0.034, 0.005],\n",
              "       [0.064, 0.086, 0.027, 0.01 , 0.008, 0.007, 0.007, 0.006, 1.   ,\n",
              "        0.065, 0.006, 0.046, 0.107, 0.006, 0.076, 0.172, 0.111, 0.021],\n",
              "       [0.03 , 0.105, 0.062, 0.052, 0.19 , 0.011, 0.012, 0.117, 0.065,\n",
              "        1.   , 0.009, 0.069, 0.137, 0.011, 0.065, 0.065, 0.104, 0.022],\n",
              "       [0.007, 0.013, 0.052, 0.01 , 0.007, 0.006, 0.006, 0.005, 0.006,\n",
              "        0.009, 1.   , 0.063, 0.008, 0.006, 0.013, 0.006, 0.006, 0.005],\n",
              "       [0.057, 0.118, 0.077, 0.023, 0.018, 0.016, 0.016, 0.013, 0.046,\n",
              "        0.069, 0.063, 1.   , 0.02 , 0.014, 0.031, 0.052, 0.102, 0.047],\n",
              "       [0.042, 0.039, 0.04 , 0.015, 0.012, 0.01 , 0.011, 0.008, 0.107,\n",
              "        0.137, 0.008, 0.02 , 1.   , 0.071, 0.14 , 0.038, 0.062, 0.031],\n",
              "       [0.008, 0.015, 0.012, 0.011, 0.076, 0.007, 0.067, 0.006, 0.006,\n",
              "        0.011, 0.006, 0.014, 0.071, 1.   , 0.046, 0.007, 0.007, 0.006],\n",
              "       [0.112, 0.05 , 0.072, 0.101, 0.058, 0.044, 0.051, 0.013, 0.076,\n",
              "        0.065, 0.013, 0.031, 0.14 , 0.046, 1.   , 0.073, 0.068, 0.036],\n",
              "       [0.121, 0.055, 0.115, 0.012, 0.009, 0.051, 0.008, 0.049, 0.172,\n",
              "        0.065, 0.006, 0.052, 0.038, 0.007, 0.073, 1.   , 0.007, 0.076],\n",
              "       [0.162, 0.356, 0.073, 0.011, 0.055, 0.081, 0.008, 0.034, 0.111,\n",
              "        0.104, 0.006, 0.102, 0.062, 0.007, 0.068, 0.007, 1.   , 0.078],\n",
              "       [0.026, 0.111, 0.025, 0.01 , 0.007, 0.006, 0.007, 0.005, 0.021,\n",
              "        0.022, 0.005, 0.047, 0.031, 0.006, 0.036, 0.076, 0.078, 1.   ]])"
            ]
          },
          "metadata": {},
          "execution_count": 17
        }
      ]
    },
    {
      "cell_type": "code",
      "source": [
        "summary_sentences = set()  # Use a set to store unique sentences\n",
        "\n",
        "for sentence in summary:\n",
        "    if sentence not in summary_sentences:\n",
        "        summary_sentences.add(sentence)\n",
        "        print(sentence)\n"
      ],
      "metadata": {
        "colab": {
          "base_uri": "https://localhost:8080/"
        },
        "outputId": "1a2e5a05-32e6-422f-d962-a4bcc25b7ffc",
        "id": "x6GK2AiR1EX0"
      },
      "execution_count": null,
      "outputs": [
        {
          "output_type": "stream",
          "name": "stdout",
          "text": [
            "Their latest innovation comes in the form of a revolutionary quantum processor, heralding a new era of computational prowess and unlocking unprecedented capabilities that were once confined to the realm of science fiction.This quantum processor represents a quantum leap in computing power, boasting unparalleled levels of stability and coherence that surpass anything previously achieved in the field.\n",
            "Unlike traditional processors, which rely on binary bits to process information, quantum processors utilize quantum bits, or qubits, which can exist in multiple states simultaneously thanks to the phenomenon of superposition.\n",
            "This inherent flexibility allows quantum processors to tackle complex computational problems with unparalleled speed and efficiency.\n",
            "Complex problems that were once deemed intractable due to their sheer computational complexity may soon be within reach, thanks to the unparalleled power of quantum computing.In addition to its scientific applications, quantum computing also has significant implications for industries such as finance, cybersecurity, and logistics.\n",
            "In the financial sector, for example, quantum algorithms could revolutionize portfolio optimization, risk management, and fraud detection, enabling more efficient and secure financial transactions.\n",
            "However, alongside the promise of quantum computing also come significant challenges and complexities.\n",
            "Chief among these challenges is the need to develop robust error-correction mechanisms to mitigate the effects of noise and other sources of error inherent in quantum systems.\n",
            "Additionally, the scalability of quantum processors remains a significant hurdle, as researchers work to increase the number of qubits and improve the overall performance of quantum computing systems.Despite these challenges, the future of quantum computing appears brighter than ever, fueled by rapid advancements in technology and an increasingly vibrant research community.\n",
            "In conclusion, the announcement of this groundbreaking quantum processor represents a significant milestone in the field of technology, ushering in a new era of computational power and unlocking unprecedented possibilities for innovation and discovery.\n",
            "As quantum computing continues to evolve and mature, its impact on society is poised to be nothing short of revolutionary, reshaping the way we think about computation and unlocking new frontiers of human knowledge and achievement.\n"
          ]
        }
      ]
    },
    {
      "cell_type": "code",
      "source": [
        "similarity_graph = networkx.from_numpy_array(similarity_matrix)\n",
        "similarity_graph"
      ],
      "metadata": {
        "colab": {
          "base_uri": "https://localhost:8080/"
        },
        "id": "mL4GQizUcUaq",
        "outputId": "ef0b8af9-d7e6-4b2a-8485-84d5049f24d0"
      },
      "execution_count": null,
      "outputs": [
        {
          "output_type": "execute_result",
          "data": {
            "text/plain": [
              "<networkx.classes.graph.Graph at 0x796cd7388670>"
            ]
          },
          "metadata": {},
          "execution_count": 25
        }
      ]
    },
    {
      "cell_type": "code",
      "source": [
        "scores = networkx.pagerank(similarity_graph)\n",
        "ranked_sentences = sorted(((score, index) for index, score\n",
        "                                            in scores.items()),\n",
        "                          reverse=True)\n",
        "ranked_sentences[:10]"
      ],
      "metadata": {
        "colab": {
          "base_uri": "https://localhost:8080/"
        },
        "id": "TrxMz6wfbx-U",
        "outputId": "b362d9c8-27e5-48b4-c684-83c0b124e2cc"
      },
      "execution_count": null,
      "outputs": [
        {
          "output_type": "execute_result",
          "data": {
            "text/plain": [
              "[(0.07227735773072695, 1),\n",
              " (0.06523345826514994, 16),\n",
              " (0.061637208594060286, 2),\n",
              " (0.06162014075356924, 9),\n",
              " (0.06036643554571555, 14),\n",
              " (0.0574364409085627, 0),\n",
              " (0.056632390417372364, 15),\n",
              " (0.05585969557608293, 5),\n",
              " (0.05422705935270461, 12),\n",
              " (0.05417799850011332, 8)]"
            ]
          },
          "metadata": {},
          "execution_count": 26
        }
      ]
    },
    {
      "cell_type": "code",
      "source": [
        "num_sentences = 5\n",
        "top_sentence_indices = [ranked_sentences[index][1]\n",
        "                        for index in range(num_sentences)]\n",
        "top_sentence_indices.sort()"
      ],
      "metadata": {
        "id": "4owDKtJ8cicB"
      },
      "execution_count": null,
      "outputs": []
    },
    {
      "cell_type": "markdown",
      "source": [
        "# **summary**"
      ],
      "metadata": {
        "id": "9wZPAlxM1U75"
      }
    },
    {
      "cell_type": "code",
      "source": [
        "# prompt: i want the summary of the top_sentence_indices in  sentence line by line\n",
        "\n",
        "for index in top_sentence_indices:\n",
        "  print(sentences[index])\n"
      ],
      "metadata": {
        "colab": {
          "base_uri": "https://localhost:8080/"
        },
        "id": "aYTMVamocnLY",
        "outputId": "6f3a4dd0-ac43-407d-9c3e-55ffe4f9bf57"
      },
      "execution_count": null,
      "outputs": [
        {
          "output_type": "stream",
          "name": "stdout",
          "text": [
            "Their latest innovation comes in the form of a revolutionary quantum processor, heralding a new era of computational prowess and unlocking unprecedented capabilities that were once confined to the realm of science fiction.This quantum processor represents a quantum leap in computing power, boasting unparalleled levels of stability and coherence that surpass anything previously achieved in the field.\n",
            "Harnessing the intricate principles of quantum mechanics, this cutting-edge technology has the potential to revolutionize numerous industries and reshape the landscape of computing as we know it.At the heart of this breakthrough lies the remarkable stability and coherence of the quantum processor.\n",
            "Complex problems that were once deemed intractable due to their sheer computational complexity may soon be within reach, thanks to the unparalleled power of quantum computing.In addition to its scientific applications, quantum computing also has significant implications for industries such as finance, cybersecurity, and logistics.\n",
            "Additionally, the scalability of quantum processors remains a significant hurdle, as researchers work to increase the number of qubits and improve the overall performance of quantum computing systems.Despite these challenges, the future of quantum computing appears brighter than ever, fueled by rapid advancements in technology and an increasingly vibrant research community.\n",
            "In conclusion, the announcement of this groundbreaking quantum processor represents a significant milestone in the field of technology, ushering in a new era of computational power and unlocking unprecedented possibilities for innovation and discovery.\n"
          ]
        }
      ]
    },
    {
      "cell_type": "code",
      "source": [
        "# prompt: how to check that our data is summarized\n",
        "\n",
        "# Assuming 'summary' is your summarized text (from the LSA summarizer) and 'text' is your original text\n",
        "original_length = len(text.split())\n",
        "summary_length = len(\" \".join([str(s) for s in summary]).split())\n",
        "\n",
        "compression_ratio = summary_length / original_length\n",
        "\n",
        "print(\"Original text length:\", original_length)\n",
        "print(\"Summary text length:\", summary_length)\n",
        "print(\"Compression ratio:\", compression_ratio)\n"
      ],
      "metadata": {
        "colab": {
          "base_uri": "https://localhost:8080/"
        },
        "id": "9feJ8ZEpdCah",
        "outputId": "5abbafd1-7de5-4e9b-c3b3-a5d893828846"
      },
      "execution_count": null,
      "outputs": [
        {
          "output_type": "stream",
          "name": "stdout",
          "text": [
            "Original text length: 573\n",
            "Summary text length: 334\n",
            "Compression ratio: 0.5828970331588132\n"
          ]
        }
      ]
    }
  ]
}